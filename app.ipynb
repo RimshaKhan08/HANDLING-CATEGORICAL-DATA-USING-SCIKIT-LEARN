{
 "cells": [
  {
   "cell_type": "markdown",
   "id": "2ccd1bf2",
   "metadata": {},
   "source": [
    "# HANDLING CATEGORICAL DATA USING SCIKIT-LEARN"
   ]
  },
  {
   "cell_type": "markdown",
   "id": "1ca53ea5",
   "metadata": {},
   "source": [
    "IMPORTING LIBRARIES "
   ]
  },
  {
   "cell_type": "code",
   "execution_count": 1,
   "id": "dee2efa6",
   "metadata": {},
   "outputs": [],
   "source": [
    "import pandas as pd"
   ]
  },
  {
   "cell_type": "markdown",
   "id": "0fdd8b70",
   "metadata": {},
   "source": [
    "IMPORTING DATASET"
   ]
  },
  {
   "cell_type": "code",
   "execution_count": 2,
   "id": "447fe635",
   "metadata": {},
   "outputs": [],
   "source": [
    "dataset = pd.read_csv(\"housing.csv\")"
   ]
  },
  {
   "cell_type": "code",
   "execution_count": 3,
   "id": "c7601788",
   "metadata": {},
   "outputs": [
    {
     "name": "stdout",
     "output_type": "stream",
     "text": [
      "<class 'pandas.core.frame.DataFrame'>\n",
      "RangeIndex: 20640 entries, 0 to 20639\n",
      "Data columns (total 10 columns):\n",
      " #   Column              Non-Null Count  Dtype  \n",
      "---  ------              --------------  -----  \n",
      " 0   longitude           20640 non-null  float64\n",
      " 1   latitude            20640 non-null  float64\n",
      " 2   housing_median_age  20640 non-null  float64\n",
      " 3   total_rooms         20640 non-null  float64\n",
      " 4   total_bedrooms      20433 non-null  float64\n",
      " 5   population          20640 non-null  float64\n",
      " 6   households          20640 non-null  float64\n",
      " 7   median_income       20640 non-null  float64\n",
      " 8   median_house_value  20640 non-null  float64\n",
      " 9   ocean_proximity     20640 non-null  object \n",
      "dtypes: float64(9), object(1)\n",
      "memory usage: 1.6+ MB\n"
     ]
    }
   ],
   "source": [
    "dataset.info()"
   ]
  },
  {
   "cell_type": "code",
   "execution_count": 4,
   "id": "d7eb6d32",
   "metadata": {},
   "outputs": [
    {
     "data": {
      "text/html": [
       "<div>\n",
       "<style scoped>\n",
       "    .dataframe tbody tr th:only-of-type {\n",
       "        vertical-align: middle;\n",
       "    }\n",
       "\n",
       "    .dataframe tbody tr th {\n",
       "        vertical-align: top;\n",
       "    }\n",
       "\n",
       "    .dataframe thead th {\n",
       "        text-align: right;\n",
       "    }\n",
       "</style>\n",
       "<table border=\"1\" class=\"dataframe\">\n",
       "  <thead>\n",
       "    <tr style=\"text-align: right;\">\n",
       "      <th></th>\n",
       "      <th>ocean_proximity</th>\n",
       "    </tr>\n",
       "  </thead>\n",
       "  <tbody>\n",
       "    <tr>\n",
       "      <th>0</th>\n",
       "      <td>NEAR BAY</td>\n",
       "    </tr>\n",
       "    <tr>\n",
       "      <th>1</th>\n",
       "      <td>NEAR BAY</td>\n",
       "    </tr>\n",
       "    <tr>\n",
       "      <th>2</th>\n",
       "      <td>NEAR BAY</td>\n",
       "    </tr>\n",
       "    <tr>\n",
       "      <th>3</th>\n",
       "      <td>NEAR BAY</td>\n",
       "    </tr>\n",
       "    <tr>\n",
       "      <th>4</th>\n",
       "      <td>NEAR BAY</td>\n",
       "    </tr>\n",
       "    <tr>\n",
       "      <th>...</th>\n",
       "      <td>...</td>\n",
       "    </tr>\n",
       "    <tr>\n",
       "      <th>20635</th>\n",
       "      <td>INLAND</td>\n",
       "    </tr>\n",
       "    <tr>\n",
       "      <th>20636</th>\n",
       "      <td>INLAND</td>\n",
       "    </tr>\n",
       "    <tr>\n",
       "      <th>20637</th>\n",
       "      <td>INLAND</td>\n",
       "    </tr>\n",
       "    <tr>\n",
       "      <th>20638</th>\n",
       "      <td>INLAND</td>\n",
       "    </tr>\n",
       "    <tr>\n",
       "      <th>20639</th>\n",
       "      <td>INLAND</td>\n",
       "    </tr>\n",
       "  </tbody>\n",
       "</table>\n",
       "<p>20640 rows × 1 columns</p>\n",
       "</div>"
      ],
      "text/plain": [
       "      ocean_proximity\n",
       "0            NEAR BAY\n",
       "1            NEAR BAY\n",
       "2            NEAR BAY\n",
       "3            NEAR BAY\n",
       "4            NEAR BAY\n",
       "...               ...\n",
       "20635          INLAND\n",
       "20636          INLAND\n",
       "20637          INLAND\n",
       "20638          INLAND\n",
       "20639          INLAND\n",
       "\n",
       "[20640 rows x 1 columns]"
      ]
     },
     "execution_count": 4,
     "metadata": {},
     "output_type": "execute_result"
    }
   ],
   "source": [
    "data_category = dataset[[\"ocean_proximity\"]]\n",
    "data_category"
   ]
  },
  {
   "cell_type": "markdown",
   "id": "182562ea",
   "metadata": {},
   "source": [
    "CHECKING TO SEE HOW MANY DIFFERENT CATEGORIES EXIST IN OCEAN PROXIMITY COLUMN"
   ]
  },
  {
   "cell_type": "code",
   "execution_count": 5,
   "id": "4789e245",
   "metadata": {},
   "outputs": [
    {
     "data": {
      "text/plain": [
       "ocean_proximity\n",
       "<1H OCEAN     9136\n",
       "INLAND        6551\n",
       "NEAR OCEAN    2658\n",
       "NEAR BAY      2290\n",
       "ISLAND           5\n",
       "Name: count, dtype: int64"
      ]
     },
     "execution_count": 5,
     "metadata": {},
     "output_type": "execute_result"
    }
   ],
   "source": [
    "dataset[\"ocean_proximity\"].value_counts()"
   ]
  },
  {
   "cell_type": "markdown",
   "id": "db1dd679",
   "metadata": {},
   "source": [
    "## THERE ARE MANY WAYS ONE CAN CONVERT CATEGORICAL DATA TO NUMERICAL DEPENDING ON THE TYPE OF DATA, \n",
    "THE MOST COMMONLY USED ARE AND WILL BE DISCUSEED HERE ARE:\n",
    "\n",
    "1) ORDINAL/LABEL ENCODING\n",
    "2) ONE-HOT-ENCODING\n",
    "\n",
    "\n",
    "**WHAT IS THE DIFFERENCE BETWEEN LABEL AND ONE-HOT ENCODING?**\n",
    "\n",
    "**LABEL ENCODING:** Used for Ordinal categorical variables (where order matters)\n",
    "\n",
    "It Assigns each category an integer value (e.g., Low → 0, Medium → 1, High → 2)\n",
    "\n",
    "**ONE HOT ENCODING:** Used for Nominal variables (no order)\n",
    "\n",
    "It Creates a binary column for each category (e.g., Red, Green, Blue → 3 new columns)"
   ]
  },
  {
   "cell_type": "code",
   "execution_count": 6,
   "id": "29e16937",
   "metadata": {},
   "outputs": [],
   "source": [
    "from sklearn.preprocessing import OrdinalEncoder\n",
    "encoder = OrdinalEncoder()\n",
    "\n",
    "data_category_encoded = encoder.fit_transform(data_category)"
   ]
  },
  {
   "cell_type": "code",
   "execution_count": 9,
   "id": "c7ca5adb",
   "metadata": {},
   "outputs": [
    {
     "data": {
      "text/plain": [
       "array([[3.],\n",
       "       [3.],\n",
       "       [3.],\n",
       "       [3.],\n",
       "       [3.],\n",
       "       [3.],\n",
       "       [3.],\n",
       "       [3.],\n",
       "       [3.],\n",
       "       [3.]])"
      ]
     },
     "execution_count": 9,
     "metadata": {},
     "output_type": "execute_result"
    }
   ],
   "source": [
    "data_category_encoded[:10]"
   ]
  },
  {
   "cell_type": "code",
   "execution_count": 10,
   "id": "1d5b0ca9",
   "metadata": {},
   "outputs": [
    {
     "data": {
      "text/plain": [
       "[array(['<1H OCEAN', 'INLAND', 'ISLAND', 'NEAR BAY', 'NEAR OCEAN'],\n",
       "       dtype=object)]"
      ]
     },
     "execution_count": 10,
     "metadata": {},
     "output_type": "execute_result"
    }
   ],
   "source": [
    "encoder.categories_"
   ]
  },
  {
   "cell_type": "markdown",
   "id": "edde4e54",
   "metadata": {},
   "source": [
    "In our case, the ocean proximity doesn't have a kind of a specific order. So we will use One hot encoding that will make another colum for each category and if that category is true it will label it as one otherwise 0"
   ]
  },
  {
   "cell_type": "code",
   "execution_count": 12,
   "id": "ae31d88e",
   "metadata": {},
   "outputs": [
    {
     "data": {
      "text/plain": [
       "<20640x5 sparse matrix of type '<class 'numpy.float64'>'\n",
       "\twith 20640 stored elements in Compressed Sparse Row format>"
      ]
     },
     "execution_count": 12,
     "metadata": {},
     "output_type": "execute_result"
    }
   ],
   "source": [
    "from sklearn.preprocessing import OneHotEncoder\n",
    "\n",
    "encoder = OneHotEncoder()\n",
    "\n",
    "data_category_encoded = encoder.fit_transform(data_category)\n",
    "\n",
    "data_category_encoded"
   ]
  },
  {
   "cell_type": "code",
   "execution_count": 13,
   "id": "a70e645c",
   "metadata": {},
   "outputs": [
    {
     "data": {
      "text/plain": [
       "array([[0., 0., 0., 1., 0.],\n",
       "       [0., 0., 0., 1., 0.],\n",
       "       [0., 0., 0., 1., 0.],\n",
       "       ...,\n",
       "       [0., 1., 0., 0., 0.],\n",
       "       [0., 1., 0., 0., 0.],\n",
       "       [0., 1., 0., 0., 0.]])"
      ]
     },
     "execution_count": 13,
     "metadata": {},
     "output_type": "execute_result"
    }
   ],
   "source": [
    "data_category_encoded.toarray()"
   ]
  },
  {
   "cell_type": "code",
   "execution_count": 15,
   "id": "2b01524c",
   "metadata": {},
   "outputs": [
    {
     "data": {
      "text/plain": [
       "[array(['<1H OCEAN', 'INLAND', 'ISLAND', 'NEAR BAY', 'NEAR OCEAN'],\n",
       "       dtype=object)]"
      ]
     },
     "execution_count": 15,
     "metadata": {},
     "output_type": "execute_result"
    }
   ],
   "source": [
    "encoder.categories_"
   ]
  }
 ],
 "metadata": {
  "kernelspec": {
   "display_name": "Python 3",
   "language": "python",
   "name": "python3"
  },
  "language_info": {
   "codemirror_mode": {
    "name": "ipython",
    "version": 3
   },
   "file_extension": ".py",
   "mimetype": "text/x-python",
   "name": "python",
   "nbconvert_exporter": "python",
   "pygments_lexer": "ipython3",
   "version": "3.8.8"
  }
 },
 "nbformat": 4,
 "nbformat_minor": 5
}
